{
  "nbformat": 4,
  "nbformat_minor": 0,
  "metadata": {
    "colab": {
      "provenance": [],
      "collapsed_sections": [],
      "authorship_tag": "ABX9TyPXOdBQJw9rsCzNX7uyGWgm",
      "include_colab_link": true
    },
    "kernelspec": {
      "name": "python3",
      "display_name": "Python 3"
    },
    "language_info": {
      "name": "python"
    }
  },
  "cells": [
    {
      "cell_type": "markdown",
      "metadata": {
        "id": "view-in-github",
        "colab_type": "text"
      },
      "source": [
        "<a href=\"https://colab.research.google.com/github/enable73/enable73.github.io/blob/main/%EC%8B%AD%EC%A7%84%EC%88%98_%EC%9D%B4%EC%A7%84%EB%A1%9C_%EB%B3%80%ED%99%98_%EC%97%B0%EC%8A%B5%EC%BD%94%EB%93%9C.ipynb\" target=\"_parent\"><img src=\"https://colab.research.google.com/assets/colab-badge.svg\" alt=\"Open In Colab\"/></a>"
      ]
    },
    {
      "cell_type": "markdown",
      "source": [
        "![232DEF4B57EC8CF804.png](data:image/png;base64,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)"
      ],
      "metadata": {
        "id": "mw-aKmudMMAM"
      }
    },
    {
      "cell_type": "code",
      "source": [
        "number = int(input(\"이진수로 변환하고자 하는 숫자를 입력하세요\"))\n",
        "answer = []\n",
        "\n",
        "while number > 1:\n",
        "  value = number % 2\n",
        "  number = number // 2\n",
        "  answer.insert(0,value) #값이 발생 될 때 리스트의 맨앞자리에 값을 추가 한다.\n",
        "\n",
        "answer.insert(0,number) #마지막 나머지를 추가\n",
        "\n",
        "print(answer) #출력 결과는 숫자형 리스트로 출력 됨"
      ],
      "metadata": {
        "colab": {
          "base_uri": "https://localhost:8080/"
        },
        "id": "9WC6JZNDqSXF",
        "outputId": "31b3a979-504e-49a1-f60a-5f1a9a945e43"
      },
      "execution_count": 121,
      "outputs": [
        {
          "output_type": "stream",
          "name": "stdout",
          "text": [
            "이진수로 변환하고자 하는 숫자를 입력하세요22\n",
            "[1, 0, 1, 1, 0]\n"
          ]
        }
      ]
    },
    {
      "cell_type": "code",
      "source": [
        "\n"
      ],
      "metadata": {
        "id": "jVM7AXGauipo"
      },
      "execution_count": 98,
      "outputs": []
    }
  ]
}